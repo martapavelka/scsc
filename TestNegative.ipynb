{
 "cells": [
  {
   "cell_type": "code",
   "execution_count": null,
   "id": "898891ca",
   "metadata": {},
   "outputs": [],
   "source": [
    "from itertools import combinations\n",
    "from sage.all import *\n",
    "\n",
    "ListGraphs = [Graph([(0,1),(1,2),(2,3),(3,4),(2,5),(5,6)]), graphs.PetersenGraph(), graphs.PathGraph(8)]\n",
    "\n",
    "for G in ListGraphs:\n",
    "    LineGraph = G.line_graph(labels=False)\n",
    "    print(LineGraph.is_hamiltonian())\n",
    "    if LineGraph.is_hamiltonian() == False:\n",
    "        print('Non-Edge-Hamiltonian Graph:', G.edges(sort=True, labels=False), 'Line Graph', LineGraph.edges(sort=True, labels=False))\n",
    "    print(LineGraph.hamiltonian_path())\n",
    "    if LineGraph.hamiltonian_path() == None:\n",
    "        print('Non-Edge-Traceable Graph:', G.edges(sort=True, labels=False), 'Line Graph', LineGraph.edges(sort=True, labels=False))\n",
    "print('Done')"
   ]
  },
  {
   "cell_type": "code",
   "execution_count": null,
   "id": "067e43eb",
   "metadata": {},
   "outputs": [],
   "source": []
  }
 ],
 "metadata": {
  "kernelspec": {
   "display_name": "SageMath 9.5",
   "language": "sage",
   "name": "sagemath"
  },
  "language_info": {
   "codemirror_mode": {
    "name": "ipython",
    "version": 3
   },
   "file_extension": ".py",
   "mimetype": "text/x-python",
   "name": "python",
   "nbconvert_exporter": "python",
   "pygments_lexer": "ipython3",
   "version": "3.10.6"
  }
 },
 "nbformat": 4,
 "nbformat_minor": 5
}
