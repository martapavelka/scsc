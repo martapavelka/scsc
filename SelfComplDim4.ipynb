{
 "cells": [
  {
   "cell_type": "code",
   "execution_count": 32,
   "metadata": {},
   "outputs": [
    {
     "name": "stdout",
     "output_type": "stream",
     "text": [
      "Progress step:  7648690600760\n"
     ]
    },
    {
     "ename": "KeyboardInterrupt",
     "evalue": "",
     "output_type": "error",
     "traceback": [
      "\u001b[0;31m---------------------------------------------------------------------------\u001b[0m",
      "\u001b[0;31mKeyboardInterrupt\u001b[0m                         Traceback (most recent call last)",
      "Input \u001b[0;32mIn [32]\u001b[0m, in \u001b[0;36m<cell line: 80>\u001b[0;34m()\u001b[0m\n\u001b[1;32m     87\u001b[0m non_facets \u001b[38;5;241m=\u001b[39m diff(full_facets, Z)\n\u001b[1;32m     88\u001b[0m Z_complex \u001b[38;5;241m=\u001b[39m SimplicialComplex(Z)\n\u001b[0;32m---> 89\u001b[0m Z_complement \u001b[38;5;241m=\u001b[39m \u001b[43mSimplicialComplex\u001b[49m\u001b[43m(\u001b[49m\u001b[43mnon_facets\u001b[49m\u001b[43m)\u001b[49m\n\u001b[1;32m     90\u001b[0m \u001b[38;5;28;01mif\u001b[39;00m Z_complex\u001b[38;5;241m.\u001b[39mis_isomorphic(Z_complement):\n\u001b[1;32m     91\u001b[0m     \u001b[38;5;28;01mif\u001b[39;00m \u001b[38;5;129;01mnot\u001b[39;00m is_eq_with_set(Z_complex, list_self_compl):\n",
      "File \u001b[0;32m/usr/lib/python3/dist-packages/sage/homology/simplicial_complex.py:1008\u001b[0m, in \u001b[0;36mSimplicialComplex.__init__\u001b[0;34m(self, maximal_faces, from_characteristic_function, maximality_check, sort_facets, name_check, is_mutable, is_immutable, category)\u001b[0m\n\u001b[1;32m   1006\u001b[0m     \u001b[38;5;28;01mraise\u001b[39;00m \u001b[38;5;167;01mValueError\u001b[39;00m(\u001b[38;5;124m\"\u001b[39m\u001b[38;5;124mmaximal_faces and from_characteristic_function cannot be both defined\u001b[39m\u001b[38;5;124m\"\u001b[39m)\n\u001b[1;32m   1007\u001b[0m category \u001b[38;5;241m=\u001b[39m SimplicialComplexes()\u001b[38;5;241m.\u001b[39mFinite()\u001b[38;5;241m.\u001b[39mor_subcategory(category)\n\u001b[0;32m-> 1008\u001b[0m \u001b[43mParent\u001b[49m\u001b[38;5;241;43m.\u001b[39;49m\u001b[38;5;21;43m__init__\u001b[39;49m\u001b[43m(\u001b[49m\u001b[38;5;28;43mself\u001b[39;49m\u001b[43m,\u001b[49m\u001b[43m \u001b[49m\u001b[43mcategory\u001b[49m\u001b[38;5;241;43m=\u001b[39;49m\u001b[43mcategory\u001b[49m\u001b[43m)\u001b[49m\n\u001b[1;32m   1010\u001b[0m C \u001b[38;5;241m=\u001b[39m \u001b[38;5;28;01mNone\u001b[39;00m\n\u001b[1;32m   1011\u001b[0m vertex_set \u001b[38;5;241m=\u001b[39m ()\n",
      "File \u001b[0;32m/usr/lib/python3/dist-packages/sage/structure/parent.pyx:296\u001b[0m, in \u001b[0;36msage.structure.parent.Parent.__init__ (build/cythonized/sage/structure/parent.c:4611)\u001b[0;34m()\u001b[0m\n\u001b[1;32m    294\u001b[0m         category = Category.join((category, Sets().Facade()))\n\u001b[1;32m    295\u001b[0m \n\u001b[0;32m--> 296\u001b[0m CategoryObject.__init__(self, category, base)\n\u001b[1;32m    297\u001b[0m \n\u001b[1;32m    298\u001b[0m if names is not None:\n",
      "File \u001b[0;32m/usr/lib/python3/dist-packages/sage/structure/category_object.pyx:113\u001b[0m, in \u001b[0;36msage.structure.category_object.CategoryObject.__init__ (build/cythonized/sage/structure/category_object.c:2053)\u001b[0;34m()\u001b[0m\n\u001b[1;32m    111\u001b[0m         self._base = base\n\u001b[1;32m    112\u001b[0m     if category is not None:\n\u001b[0;32m--> 113\u001b[0m         self._init_category_(category)\n\u001b[1;32m    114\u001b[0m \n\u001b[1;32m    115\u001b[0m def __cinit__(self):\n",
      "File \u001b[0;32m/usr/lib/python3/dist-packages/sage/structure/parent.pyx:339\u001b[0m, in \u001b[0;36msage.structure.parent.Parent._init_category_ (build/cythonized/sage/structure/parent.c:5081)\u001b[0;34m()\u001b[0m\n\u001b[1;32m    337\u001b[0m if can_assign_class(self) and not isinstance(self, Sets_parent_class):\n\u001b[1;32m    338\u001b[0m     # Documentation transfer is handled by dynamic_class\n\u001b[0;32m--> 339\u001b[0m     self.__class__ = dynamic_class(\n\u001b[1;32m    340\u001b[0m         f\"{type(self).__name__}_with_category\",\n\u001b[1;32m    341\u001b[0m         (type(self), self._category.parent_class),\n",
      "File \u001b[0;32m/usr/lib/python3/dist-packages/sage/structure/dynamic_class.py:127\u001b[0m, in \u001b[0;36mdynamic_class\u001b[0;34m(name, bases, cls, reduction, doccls, prepend_cls_bases, cache)\u001b[0m\n\u001b[1;32m    123\u001b[0m \u001b[38;5;28;01mfrom\u001b[39;00m \u001b[38;5;21;01msage\u001b[39;00m\u001b[38;5;21;01m.\u001b[39;00m\u001b[38;5;21;01mmisc\u001b[39;00m\u001b[38;5;21;01m.\u001b[39;00m\u001b[38;5;21;01mclasscall_metaclass\u001b[39;00m \u001b[38;5;28;01mimport\u001b[39;00m ClasscallMetaclass\n\u001b[1;32m    124\u001b[0m \u001b[38;5;28;01mfrom\u001b[39;00m \u001b[38;5;21;01msage\u001b[39;00m\u001b[38;5;21;01m.\u001b[39;00m\u001b[38;5;21;01mmisc\u001b[39;00m\u001b[38;5;21;01m.\u001b[39;00m\u001b[38;5;21;01minherit_comparison\u001b[39;00m \u001b[38;5;28;01mimport\u001b[39;00m InheritComparisonMetaclass, InheritComparisonClasscallMetaclass\n\u001b[0;32m--> 127\u001b[0m \u001b[38;5;28;01mdef\u001b[39;00m \u001b[38;5;21mdynamic_class\u001b[39m(name, bases, \u001b[38;5;28mcls\u001b[39m\u001b[38;5;241m=\u001b[39m\u001b[38;5;28;01mNone\u001b[39;00m, reduction\u001b[38;5;241m=\u001b[39m\u001b[38;5;28;01mNone\u001b[39;00m, doccls\u001b[38;5;241m=\u001b[39m\u001b[38;5;28;01mNone\u001b[39;00m,\n\u001b[1;32m    128\u001b[0m                   prepend_cls_bases\u001b[38;5;241m=\u001b[39m\u001b[38;5;28;01mTrue\u001b[39;00m, cache\u001b[38;5;241m=\u001b[39m\u001b[38;5;28;01mTrue\u001b[39;00m):\n\u001b[1;32m    129\u001b[0m     \u001b[38;5;124mr\u001b[39m\u001b[38;5;124;03m\"\"\"\u001b[39;00m\n\u001b[1;32m    130\u001b[0m \u001b[38;5;124;03m    INPUT:\u001b[39;00m\n\u001b[1;32m    131\u001b[0m \n\u001b[0;32m   (...)\u001b[0m\n\u001b[1;32m    324\u001b[0m \u001b[38;5;124;03m        True\u001b[39;00m\n\u001b[1;32m    325\u001b[0m \u001b[38;5;124;03m    \"\"\"\u001b[39;00m\n\u001b[1;32m    326\u001b[0m     bases \u001b[38;5;241m=\u001b[39m \u001b[38;5;28mtuple\u001b[39m(bases)\n",
      "File \u001b[0;32msrc/cysignals/signals.pyx:320\u001b[0m, in \u001b[0;36mcysignals.signals.python_check_interrupt\u001b[0;34m()\u001b[0m\n",
      "\u001b[0;31mKeyboardInterrupt\u001b[0m: "
     ]
    }
   ],
   "source": [
    "import sys, time\n",
    "from itertools import combinations\n",
    "from sage.all import *\n",
    "\n",
    "def combinations(list_get_comb, length_combination):\n",
    "#     \"\"\" Generator to get all the combinations of some length of the elements of a list.\n",
    "\n",
    "#     :param list_get_comb: List from which it is wanted to get the combination of its elements.\n",
    "#     :param length_combination: Length of the combinations of the elements of list_get_comb.\n",
    "#     :return: Generator with the combinations of this list.\n",
    "#     \"\"\"\n",
    "\n",
    "    # Generator to get the combinations of the indices of the list\n",
    "    def get_indices_combinations(sub_list_indices, max_index):\n",
    "#         \"\"\" Generator that returns the combinations of the indices\n",
    "\n",
    "#         :param sub_list_indices: Sub-list from which to generate ALL the possible combinations.\n",
    "#         :param max_index: Maximum index.\n",
    "#         :return:\n",
    "#         \"\"\"\n",
    "        if len(sub_list_indices) == 1:  # Last index of the list of indices\n",
    "            for index in range(sub_list_indices[0], max_index + 1):\n",
    "                yield [index]\n",
    "        elif all([sub_list_indices[-i - 1] == max_index - i for i in\n",
    "                  range(len(sub_list_indices))]):  # The current sublist has reached the end\n",
    "            yield sub_list_indices\n",
    "        else:\n",
    "            for comb in get_indices_combinations(sub_list_indices[1:],\n",
    "                                                 max_index):  # Get all the possible combinations of the sublist sub_list_indices[1:]\n",
    "                yield [sub_list_indices[0]] + comb\n",
    "            # Advance one position and check all possible combinations\n",
    "            new_sub_list = []\n",
    "            new_sub_list.extend([sub_list_indices[0] + i + 1 for i in range(len(sub_list_indices))])\n",
    "            for new_comb in get_indices_combinations(new_sub_list, max_index):\n",
    "                yield new_comb  # Return all the possible combinations of the new list\n",
    "\n",
    "    # Start the algorithm:\n",
    "    sub_list_indices = list(range(length_combination))\n",
    "    for list_indices in get_indices_combinations(sub_list_indices, len(list_get_comb) - 1):\n",
    "        yield [list_get_comb[i] for i in list_indices]\n",
    "\n",
    "#function going through the first list and returning all elements that are not in the second list\n",
    "def diff(first, second):\n",
    "    return [item for item in first if item not in second]\n",
    "\n",
    "#function checking isomorphism of a CS with already existing set of SCs\n",
    "#new_s_complex is a CS, list_of_scs is a list of SCs\n",
    "def is_eq_with_set(new_s_complex, list_of_scs):\n",
    "    for Z in list_of_scs:\n",
    "        if new_s_complex.is_isomorphic(Z):\n",
    "            return True\n",
    "    return False\n",
    "\n",
    "# comb = combinations([1, 2, 3, 4], 3)\n",
    "# for c in comb:\n",
    "\n",
    "n = 8\n",
    "d = 4\n",
    "\n",
    "#generating all possible facets, but in set form\n",
    "l = list(range(1,n+1))\n",
    "full_facets_set = [*combinations(l, d + 1)]\n",
    "#remake the set of all faces to proper array form\n",
    "full_facets = [list(x) for x in full_facets_set]\n",
    "#keep only those lists of facets with (n choose d+1)/2 facets\n",
    "#num = binomial(n, d + 1)\n",
    "full_facets_set_length = len(full_facets_set)\n",
    "list_self_compl = []\n",
    "unique_self_complexes = []\n",
    "\n",
    "# blbe-check\n",
    "if full_facets_set_length % 2:\n",
    "    sys.exit('Number of facets is not even!')\n",
    "    \n",
    "progress_step = floor(binomial(full_facets_set_length, full_facets_set_length / 2) / 1000)\n",
    "print('Progress step: ', progress_step)\n",
    "iterator = 0\n",
    "percentage = 0\n",
    "start_time = time.time()\n",
    "# keep only self complementary CSs\n",
    "for Z in combinations(full_facets, full_facets_set_length // 2):\n",
    "    iterator += 1\n",
    "    if iterator == progress_step:\n",
    "        iterator = 0\n",
    "        percentage += 1\n",
    "        run_time = time.time() - start_time\n",
    "        print('So far %.1f in %d hours %d minutes.' % (percentage / 10, run_time / 3600, run_time % 3600 / 60))\n",
    "    non_facets = diff(full_facets, Z)\n",
    "    Z_complex = SimplicialComplex(Z)\n",
    "    Z_complement = SimplicialComplex(non_facets)\n",
    "    if Z_complex.is_isomorphic(Z_complement):\n",
    "        if not is_eq_with_set(Z_complex, list_self_compl):\n",
    "            list_self_compl.append(copy(Z_complex))\n",
    "            print(Z)\n",
    "print('Number of complexes:', len(list_self_compl))\n",
    "print(list_self_compl)\n",
    "sys.exit()"
   ]
  },
  {
   "cell_type": "code",
   "execution_count": 11,
   "metadata": {},
   "outputs": [
    {
     "name": "stdout",
     "output_type": "stream",
     "text": [
      "[(1, 2, 4, 5, 6), (1, 3, 4, 5, 6), (2, 3, 4, 5, 6)]\n",
      "[(1, 2, 3, 4, 5), (1, 2, 3, 5, 6), (1, 2, 3, 4, 6)] [(1, 2, 4, 5, 6), (2, 3, 4, 5, 6), (1, 3, 4, 5, 6)]\n",
      "(True, {1: 4, 2: 5, 3: 6, 4: 1, 5: 2, 6: 3})\n"
     ]
    }
   ],
   "source": [
    "from itertools import combinations\n",
    "#function going through the first list and returning all elements that are not in the second list\n",
    "def diff(first, second):\n",
    "    return [item for item in first if item not in second]\n",
    "l = list(range(1,7))\n",
    "full_facets_set = [*combinations(l, 5)]\n",
    "\n",
    "# #remake the set of all faces to proper array form\n",
    "# full_facets = [list(x) for x in full_facets_set]\n",
    "cs1=[(1, 2, 3, 4, 5), (1, 2, 3, 4, 6), (1, 2, 3, 5, 6)]\n",
    "non_facets = diff(full_facets_set, cs1)\n",
    "print(non_facets)\n",
    "cs1_complex = SimplicialComplex(cs1)\n",
    "cs1_complement = SimplicialComplex(non_facets)\n",
    "print(cs1_complex.n_faces(4), cs1_complement.n_faces(4))\n",
    "print(cs1_complex.is_isomorphic(cs1_complement, certificate=True))"
   ]
  },
  {
   "cell_type": "code",
   "execution_count": 7,
   "metadata": {},
   "outputs": [
    {
     "name": "stdout",
     "output_type": "stream",
     "text": [
      "4.70000000000000\n",
      "575/59\n",
      "575/59 9\n"
     ]
    }
   ],
   "source": [
    "procentage = 100*(23/236)\n",
    "procentage_r = floor(100*(23/236))\n",
    "\n",
    "print(procentage_r - 4.3)\n",
    "\n",
    "if (procentage_r - 4.3) > 1:\n",
    "    print(procentage)\n",
    "\n",
    "\n",
    "    print(procentage, procentage_r)"
   ]
  },
  {
   "cell_type": "code",
   "execution_count": 31,
   "metadata": {},
   "outputs": [
    {
     "name": "stdout",
     "output_type": "stream",
     "text": [
      "Progress step:  10000000\n",
      "So far 0.1 in 0:2.\n",
      "So far 0.2 in 0:5.\n"
     ]
    },
    {
     "ename": "KeyboardInterrupt",
     "evalue": "",
     "output_type": "error",
     "traceback": [
      "\u001b[0;31m---------------------------------------------------------------------------\u001b[0m",
      "\u001b[0;31mKeyboardInterrupt\u001b[0m                         Traceback (most recent call last)",
      "Input \u001b[0;32mIn [31]\u001b[0m, in \u001b[0;36m<cell line: 15>\u001b[0;34m()\u001b[0m\n\u001b[1;32m     14\u001b[0m \u001b[38;5;66;03m# keep only self complementary CSs\u001b[39;00m\n\u001b[1;32m     15\u001b[0m \u001b[38;5;28;01mwhile\u001b[39;00m percentage \u001b[38;5;241m<\u001b[39m Integer(\u001b[38;5;241m30\u001b[39m):\n\u001b[0;32m---> 16\u001b[0m     iterator \u001b[38;5;241m+\u001b[39m\u001b[38;5;241m=\u001b[39m Integer(\u001b[38;5;241m1\u001b[39m)\n\u001b[1;32m     17\u001b[0m     \u001b[38;5;28;01mif\u001b[39;00m iterator \u001b[38;5;241m==\u001b[39m progress_step:\n\u001b[1;32m     18\u001b[0m         iterator \u001b[38;5;241m=\u001b[39m Integer(\u001b[38;5;241m0\u001b[39m)\n",
      "File \u001b[0;32msrc/cysignals/signals.pyx:320\u001b[0m, in \u001b[0;36mcysignals.signals.python_check_interrupt\u001b[0;34m()\u001b[0m\n",
      "\u001b[0;31mKeyboardInterrupt\u001b[0m: "
     ]
    }
   ],
   "source": [
    "# precision -> step_divisor -> percentage_divisor\n",
    "# 0 -> / 100 -> / 1\n",
    "# 1 -> / 1000 -> / 10\n",
    "# 2 -> / 10000 -> / 100\n",
    "precision = 1\n",
    "percentage_divisor = 10 ** precision\n",
    "step_divisor = 100 * percentage_divisor\n",
    "\n",
    "progress_step = 10000000\n",
    "print('Progress step: ', progress_step)\n",
    "iterator = 0\n",
    "percentage = 0\n",
    "start_time = time.time()\n",
    "# keep only self complementary CSs\n",
    "while percentage < 30:\n",
    "    iterator += 1\n",
    "    if iterator == progress_step:\n",
    "        iterator = 0\n",
    "        percentage += 1\n",
    "        run_time = time.time() - start_time\n",
    "        print('So far %.1f in %d:%d.' % (percentage / 10, run_time / 3600, run_time % 3600))\n"
   ]
  },
  {
   "cell_type": "code",
   "execution_count": null,
   "metadata": {},
   "outputs": [],
   "source": []
  }
 ],
 "metadata": {
  "kernelspec": {
   "display_name": "SageMath 9.0",
   "language": "sage",
   "name": "sagemath"
  },
  "language_info": {
   "codemirror_mode": {
    "name": "ipython",
    "version": 3
   },
   "file_extension": ".py",
   "mimetype": "text/x-python",
   "name": "python",
   "nbconvert_exporter": "python",
   "pygments_lexer": "ipython3",
   "version": "3.8.10"
  }
 },
 "nbformat": 4,
 "nbformat_minor": 4
}
