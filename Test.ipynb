{
 "cells": [
  {
   "cell_type": "code",
   "execution_count": 1,
   "id": "de83ad47",
   "metadata": {},
   "outputs": [
    {
     "name": "stdout",
     "output_type": "stream",
     "text": [
      "position 1 in progress\n",
      "position 1 still in progress\n",
      "position 1 done\n",
      "position 2 in progress\n",
      "position 2 still in progress\n",
      "position 2 done\n",
      "Done\n"
     ]
    }
   ],
   "source": [
    "List48m4 = [Graph([(1, 2), (1, 3), (1, 4), (2, 5), (2, 6), (3, 7), (3, 8), (4, 9), (4, 10), (5, 10), (5, 11), (6, 11), (6, 12), (7, 12), (7, 13), (8, 9), (8, 14), (9, 15), (10, 16), (11, 17), (12, 18), (13, 19), (13, 20), (14, 20), (14, 21), (15, 16), (15, 21), (16, 17), (17, 21), (18, 22), (18, 23), (19, 24), (19, 25), (20, 25), (22, 26), (22, 27), (23, 24), (23, 28), (24, 29), (25, 30), (26, 31), (26, 32), (27, 28), (27, 33), (28, 34), (29, 30), (29, 35), (30, 31), (31, 36), (32, 37), (32, 38), (33, 38), (33, 39), (34, 39), (34, 40), (35, 36), (35, 41), (36, 42), (37, 42), (37, 43), (38, 44), (39, 45), (40, 41), (40, 46), (41, 47), (42, 47), (43, 44), (43, 48), (44, 45), (45, 46), (46, 48), (47, 48)]), Graph([(1, 2), (1, 3), (1, 4), (2, 5), (2, 6), (3, 7), (3, 8), (4, 9), (4, 10), (5, 10), (5, 11), (6, 11), (6, 12), (7, 13), (7, 14), (8, 9), (8, 14), (9, 15), (10, 16), (11, 17), (12, 18), (12, 19), (13, 20), (13, 21), (14, 22), (15, 16), (15, 23), (16, 17), (17, 18), (18, 23), (19, 23), (19, 24), (20, 25), (20, 26), (21, 27), (21, 28), (22, 24), (22, 28), (24, 29), (25, 30), (25, 31), (26, 27), (26, 32), (27, 33), (28, 34), (29, 30), (29, 34), (30, 35), (31, 36), (31, 37), (32, 37), (32, 38), (33, 38), (33, 39), (34, 40), (35, 40), (35, 41), (36, 41), (36, 42), (37, 43), (38, 44), (39, 45), (39, 46), (40, 46), (41, 47), (42, 43), (42, 48), (43, 44), (44, 45), (45, 48), (46, 47), (47, 48)])]\n",
    "\n",
    "i = 0\n",
    "for G in List48m4: \n",
    "    i = i + 1\n",
    "    print('position', i, 'in progress')\n",
    "    LineGraph = G.line_graph(labels=False)\n",
    "    if LineGraph.is_hamiltonian() == False:\n",
    "        print('Non-Edge-Hamiltonian Graph:', G.edges(sort=True, labels=False), 'Line Graph', LineGraph.edges(sort=True, labels=False))\n",
    "    print('position', i, 'still in progress')\n",
    "    if LineGraph.hamiltonian_path() == None:\n",
    "        print('Non-Edge-Traceable Graph:', G.edges(sort=True, labels=False), 'Line Graph', LineGraph.edges(sort=True, labels=False))\n",
    "        continue\n",
    "    print('position', i, 'done')\n",
    "print('Done')"
   ]
  },
  {
   "cell_type": "code",
   "execution_count": null,
   "id": "2c71ebbe",
   "metadata": {},
   "outputs": [],
   "source": []
  }
 ],
 "metadata": {
  "kernelspec": {
   "display_name": "SageMath 9.5",
   "language": "sage",
   "name": "sagemath"
  },
  "language_info": {
   "codemirror_mode": {
    "name": "ipython",
    "version": 3
   },
   "file_extension": ".py",
   "mimetype": "text/x-python",
   "name": "python",
   "nbconvert_exporter": "python",
   "pygments_lexer": "ipython3",
   "version": "3.10.6"
  }
 },
 "nbformat": 4,
 "nbformat_minor": 5
}
