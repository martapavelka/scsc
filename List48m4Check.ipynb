{
 "cells": [
  {
   "cell_type": "code",
   "execution_count": 1,
   "id": "88a59a55",
   "metadata": {},
   "outputs": [
    {
     "name": "stdout",
     "output_type": "stream",
     "text": [
      "position 1 in progress\n",
      "position 1  still in progress\n",
      "position 1  done\n",
      "position 2 in progress\n"
     ]
    },
    {
     "ename": "KeyboardInterrupt",
     "evalue": "",
     "output_type": "error",
     "traceback": [
      "\u001b[0;31m---------------------------------------------------------------------------\u001b[0m",
      "\u001b[0;31mKeyboardInterrupt\u001b[0m                         Traceback (most recent call last)",
      "\u001b[0;32m/tmp/ipykernel_532237/4214188960.py\u001b[0m in \u001b[0;36m<module>\u001b[0;34m\u001b[0m\n\u001b[1;32m      9\u001b[0m     \u001b[0mprint\u001b[0m\u001b[0;34m(\u001b[0m\u001b[0;34m'position'\u001b[0m\u001b[0;34m,\u001b[0m \u001b[0mi\u001b[0m\u001b[0;34m,\u001b[0m \u001b[0;34m'in progress'\u001b[0m\u001b[0;34m)\u001b[0m\u001b[0;34m\u001b[0m\u001b[0;34m\u001b[0m\u001b[0m\n\u001b[1;32m     10\u001b[0m     \u001b[0mLineGraph\u001b[0m \u001b[0;34m=\u001b[0m \u001b[0mG\u001b[0m\u001b[0;34m.\u001b[0m\u001b[0mline_graph\u001b[0m\u001b[0;34m(\u001b[0m\u001b[0mlabels\u001b[0m\u001b[0;34m=\u001b[0m\u001b[0;32mFalse\u001b[0m\u001b[0;34m)\u001b[0m\u001b[0;34m\u001b[0m\u001b[0;34m\u001b[0m\u001b[0m\n\u001b[0;32m---> 11\u001b[0;31m     \u001b[0;32mif\u001b[0m \u001b[0mLineGraph\u001b[0m\u001b[0;34m.\u001b[0m\u001b[0mis_hamiltonian\u001b[0m\u001b[0;34m(\u001b[0m\u001b[0;34m)\u001b[0m \u001b[0;34m==\u001b[0m \u001b[0;32mFalse\u001b[0m\u001b[0;34m:\u001b[0m\u001b[0;34m\u001b[0m\u001b[0;34m\u001b[0m\u001b[0m\n\u001b[0m\u001b[1;32m     12\u001b[0m         \u001b[0mprint\u001b[0m\u001b[0;34m(\u001b[0m\u001b[0;34m'Non-Edge-Hamiltonian Graph:'\u001b[0m\u001b[0;34m,\u001b[0m \u001b[0mG\u001b[0m\u001b[0;34m.\u001b[0m\u001b[0medges\u001b[0m\u001b[0;34m(\u001b[0m\u001b[0msort\u001b[0m\u001b[0;34m=\u001b[0m\u001b[0;32mTrue\u001b[0m\u001b[0;34m,\u001b[0m \u001b[0mlabels\u001b[0m\u001b[0;34m=\u001b[0m\u001b[0;32mFalse\u001b[0m\u001b[0;34m)\u001b[0m\u001b[0;34m,\u001b[0m \u001b[0;34m'Line Graph'\u001b[0m\u001b[0;34m,\u001b[0m \u001b[0mLineGraph\u001b[0m\u001b[0;34m.\u001b[0m\u001b[0medges\u001b[0m\u001b[0;34m(\u001b[0m\u001b[0msort\u001b[0m\u001b[0;34m=\u001b[0m\u001b[0;32mTrue\u001b[0m\u001b[0;34m,\u001b[0m \u001b[0mlabels\u001b[0m\u001b[0;34m=\u001b[0m\u001b[0;32mFalse\u001b[0m\u001b[0;34m)\u001b[0m\u001b[0;34m)\u001b[0m\u001b[0;34m\u001b[0m\u001b[0;34m\u001b[0m\u001b[0m\n\u001b[1;32m     13\u001b[0m     \u001b[0mprint\u001b[0m\u001b[0;34m(\u001b[0m\u001b[0;34m'position'\u001b[0m\u001b[0;34m,\u001b[0m \u001b[0mi\u001b[0m\u001b[0;34m,\u001b[0m \u001b[0;34m' still in progress'\u001b[0m\u001b[0;34m)\u001b[0m\u001b[0;34m\u001b[0m\u001b[0;34m\u001b[0m\u001b[0m\n",
      "\u001b[0;32m/usr/lib/python3/dist-packages/sage/graphs/generic_graph.py\u001b[0m in \u001b[0;36mis_hamiltonian\u001b[0;34m(self, solver, constraint_generation, verbose, verbose_constraints, integrality_tolerance)\u001b[0m\n\u001b[1;32m  22575\u001b[0m         \u001b[0;32mfrom\u001b[0m \u001b[0msage\u001b[0m\u001b[0;34m.\u001b[0m\u001b[0mcategories\u001b[0m\u001b[0;34m.\u001b[0m\u001b[0msets_cat\u001b[0m \u001b[0;32mimport\u001b[0m \u001b[0mEmptySetError\u001b[0m\u001b[0;34m\u001b[0m\u001b[0;34m\u001b[0m\u001b[0m\n\u001b[1;32m  22576\u001b[0m         \u001b[0;32mtry\u001b[0m\u001b[0;34m:\u001b[0m\u001b[0;34m\u001b[0m\u001b[0;34m\u001b[0m\u001b[0m\n\u001b[0;32m> 22577\u001b[0;31m             self.traveling_salesman_problem(use_edge_labels=False, solver=solver,\n\u001b[0m\u001b[1;32m  22578\u001b[0m                                             \u001b[0mconstraint_generation\u001b[0m\u001b[0;34m=\u001b[0m\u001b[0mconstraint_generation\u001b[0m\u001b[0;34m,\u001b[0m\u001b[0;34m\u001b[0m\u001b[0;34m\u001b[0m\u001b[0m\n\u001b[1;32m  22579\u001b[0m                                             \u001b[0mverbose\u001b[0m\u001b[0;34m=\u001b[0m\u001b[0mverbose\u001b[0m\u001b[0;34m,\u001b[0m \u001b[0mverbose_constraints\u001b[0m\u001b[0;34m=\u001b[0m\u001b[0mverbose_constraints\u001b[0m\u001b[0;34m,\u001b[0m\u001b[0;34m\u001b[0m\u001b[0;34m\u001b[0m\u001b[0m\n",
      "\u001b[0;32m/usr/lib/python3/dist-packages/sage/graphs/generic_graph.py\u001b[0m in \u001b[0;36mtraveling_salesman_problem\u001b[0;34m(self, use_edge_labels, maximize, solver, constraint_generation, verbose, verbose_constraints, integrality_tolerance)\u001b[0m\n\u001b[1;32m   8207\u001b[0m \u001b[0;34m\u001b[0m\u001b[0m\n\u001b[1;32m   8208\u001b[0m                     \u001b[0;32mtry\u001b[0m\u001b[0;34m:\u001b[0m\u001b[0;34m\u001b[0m\u001b[0;34m\u001b[0m\u001b[0m\n\u001b[0;32m-> 8209\u001b[0;31m                         \u001b[0mp\u001b[0m\u001b[0;34m.\u001b[0m\u001b[0msolve\u001b[0m\u001b[0;34m(\u001b[0m\u001b[0mlog\u001b[0m\u001b[0;34m=\u001b[0m\u001b[0mverbose\u001b[0m\u001b[0;34m)\u001b[0m\u001b[0;34m\u001b[0m\u001b[0;34m\u001b[0m\u001b[0m\n\u001b[0m\u001b[1;32m   8210\u001b[0m                     \u001b[0;32mexcept\u001b[0m \u001b[0mMIPSolverException\u001b[0m\u001b[0;34m:\u001b[0m\u001b[0;34m\u001b[0m\u001b[0;34m\u001b[0m\u001b[0m\n\u001b[1;32m   8211\u001b[0m                         \u001b[0;32mraise\u001b[0m \u001b[0mEmptySetError\u001b[0m\u001b[0;34m(\u001b[0m\u001b[0;34m\"the given graph is not Hamiltonian\"\u001b[0m\u001b[0;34m)\u001b[0m\u001b[0;34m\u001b[0m\u001b[0;34m\u001b[0m\u001b[0m\n",
      "\u001b[0;32m/usr/lib/python3/dist-packages/sage/numerical/mip.pyx\u001b[0m in \u001b[0;36msage.numerical.mip.MixedIntegerLinearProgram.solve (build/cythonized/sage/numerical/mip.c:17296)\u001b[0;34m()\u001b[0m\n\u001b[1;32m   2553\u001b[0m         \"\"\"\n\u001b[1;32m   2554\u001b[0m         \u001b[0;32mif\u001b[0m \u001b[0mlog\u001b[0m \u001b[0;32mis\u001b[0m \u001b[0;32mnot\u001b[0m \u001b[0;32mNone\u001b[0m\u001b[0;34m:\u001b[0m \u001b[0mself\u001b[0m\u001b[0;34m.\u001b[0m\u001b[0m_backend\u001b[0m\u001b[0;34m.\u001b[0m\u001b[0mset_verbosity\u001b[0m\u001b[0;34m(\u001b[0m\u001b[0mlog\u001b[0m\u001b[0;34m)\u001b[0m\u001b[0;34m\u001b[0m\u001b[0;34m\u001b[0m\u001b[0m\n\u001b[0;32m-> 2555\u001b[0;31m         \u001b[0mself\u001b[0m\u001b[0;34m.\u001b[0m\u001b[0m_backend\u001b[0m\u001b[0;34m.\u001b[0m\u001b[0msolve\u001b[0m\u001b[0;34m(\u001b[0m\u001b[0;34m)\u001b[0m\u001b[0;34m\u001b[0m\u001b[0;34m\u001b[0m\u001b[0m\n\u001b[0m\u001b[1;32m   2556\u001b[0m         \u001b[0;32mreturn\u001b[0m \u001b[0mself\u001b[0m\u001b[0;34m.\u001b[0m\u001b[0m_backend\u001b[0m\u001b[0;34m.\u001b[0m\u001b[0mget_objective_value\u001b[0m\u001b[0;34m(\u001b[0m\u001b[0;34m)\u001b[0m\u001b[0;34m\u001b[0m\u001b[0;34m\u001b[0m\u001b[0m\n\u001b[1;32m   2557\u001b[0m \u001b[0;34m\u001b[0m\u001b[0m\n",
      "\u001b[0;32m/usr/lib/python3/dist-packages/sage/numerical/backends/glpk_backend.pyx\u001b[0m in \u001b[0;36msage.numerical.backends.glpk_backend.GLPKBackend.solve (build/cythonized/sage/numerical/backends/glpk_backend.c:10078)\u001b[0;34m()\u001b[0m\n\u001b[1;32m   1129\u001b[0m         if ((self.simplex_or_intopt == glp_intopt_only)\n\u001b[1;32m   1130\u001b[0m             or (self.simplex_or_intopt == glp_simplex_then_intopt) and (solution_status != GLP_UNDEF) and (solution_status != GLP_NOFEAS)):\n\u001b[0;32m-> 1131\u001b[0;31m             \u001b[0msig_on\u001b[0m\u001b[0;34m(\u001b[0m\u001b[0;34m)\u001b[0m\u001b[0;34m\u001b[0m\u001b[0;34m\u001b[0m\u001b[0m\n\u001b[0m\u001b[1;32m   1132\u001b[0m             \u001b[0msolve_status\u001b[0m \u001b[0;34m=\u001b[0m \u001b[0mglp_intopt\u001b[0m\u001b[0;34m(\u001b[0m\u001b[0mself\u001b[0m\u001b[0;34m.\u001b[0m\u001b[0mlp\u001b[0m\u001b[0;34m,\u001b[0m \u001b[0mself\u001b[0m\u001b[0;34m.\u001b[0m\u001b[0miocp\u001b[0m\u001b[0;34m)\u001b[0m\u001b[0;34m\u001b[0m\u001b[0;34m\u001b[0m\u001b[0m\n\u001b[1;32m   1133\u001b[0m             \u001b[0msolution_status\u001b[0m \u001b[0;34m=\u001b[0m \u001b[0mglp_mip_status\u001b[0m\u001b[0;34m(\u001b[0m\u001b[0mself\u001b[0m\u001b[0;34m.\u001b[0m\u001b[0mlp\u001b[0m\u001b[0;34m)\u001b[0m\u001b[0;34m\u001b[0m\u001b[0;34m\u001b[0m\u001b[0m\n",
      "\u001b[0;31mKeyboardInterrupt\u001b[0m: "
     ]
    }
   ],
   "source": [
    "from itertools import combinations\n",
    "from sage.all import *\n",
    "\n",
    "List48m4 = [Graph([(1, 2), (1, 3), (1, 4), (2, 5), (2, 6), (3, 7), (3, 8), (4, 9), (4, 10), (5, 10), (5, 11), (6, 7), (6, 12), (7, 13), (8, 14), (8, 15), (9, 16), (9, 17), (10, 18), (11, 12), (11, 18), (12, 19), (13, 20), (13, 21), (14, 21), (14, 22), (15, 16), (15, 22), (16, 23), (17, 18), (17, 23), (19, 24), (19, 25), (20, 25), (20, 26), (21, 27), (22, 23), (24, 28), (24, 29), (25, 30), (26, 27), (26, 31), (27, 32), (28, 32), (28, 33), (29, 30), (29, 34), (30, 35), (31, 36), (31, 37), (32, 37), (33, 38), (33, 39), (34, 39), (34, 40), (35, 40), (35, 41), (36, 41), (36, 42), (37, 43), (38, 43), (38, 44), (39, 45), (40, 46), (41, 47), (42, 43), (42, 48), (44, 45), (44, 48), (45, 46), (46, 47), (47, 48)]), Graph([(1, 2), (1, 3), (1, 4), (2, 5), (2, 6), (3, 7), (3, 8), (4, 9), (4, 10), (5, 10), (5, 11), (6, 12), (6, 13), (7, 14), (7, 15), (8, 16), (8, 17), (9, 17), (9, 18), (10, 19), (11, 12), (11, 20), (12, 21), (13, 16), (13, 22), (14, 23), (14, 24), (15, 25), (15, 26), (16, 26), (17, 27), (18, 19), (18, 28), (19, 20), (20, 29), (21, 27), (21, 29), (22, 30), (22, 31), (23, 31), (23, 32), (24, 25), (24, 33), (25, 34), (26, 30), (27, 28), (28, 29), (30, 35), (31, 36), (32, 37), (32, 38), (33, 38), (33, 39), (34, 39), (34, 40), (35, 36), (35, 41), (36, 42), (37, 42), (37, 43), (38, 44), (39, 45), (40, 41), (40, 46), (41, 47), (42, 47), (43, 44), (43, 48), (44, 45), (45, 46), (46, 48), (47, 48)])]\n",
    "\n",
    "i = 0\n",
    "for G in List48m4: \n",
    "    i = i + 1\n",
    "    print('position', i, 'in progress')\n",
    "    LineGraph = G.line_graph(labels=False)\n",
    "    if LineGraph.is_hamiltonian() == False:\n",
    "        print('Non-Edge-Hamiltonian Graph:', G.edges(sort=True, labels=False), 'Line Graph', LineGraph.edges(sort=True, labels=False))\n",
    "    print('position', i, ' still in progress')\n",
    "    if LineGraph.hamiltonian_path() == None:\n",
    "        print('Non-Edge-Traceable Graph:', G.edges(sort=True, labels=False), 'Line Graph', LineGraph.edges(sort=True, labels=False))\n",
    "        continue\n",
    "    print('position', i, ' done')\n",
    "print('Done')"
   ]
  },
  {
   "cell_type": "code",
   "execution_count": null,
   "id": "b75c44c6",
   "metadata": {},
   "outputs": [],
   "source": []
  }
 ],
 "metadata": {
  "kernelspec": {
   "display_name": "SageMath 9.5",
   "language": "sage",
   "name": "sagemath"
  },
  "language_info": {
   "codemirror_mode": {
    "name": "ipython",
    "version": 3
   },
   "file_extension": ".py",
   "mimetype": "text/x-python",
   "name": "python",
   "nbconvert_exporter": "python",
   "pygments_lexer": "ipython3",
   "version": "3.10.6"
  }
 },
 "nbformat": 4,
 "nbformat_minor": 5
}
