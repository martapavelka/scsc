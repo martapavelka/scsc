{
 "cells": [
  {
   "cell_type": "code",
   "execution_count": null,
   "id": "88a59a55",
   "metadata": {},
   "outputs": [],
   "source": [
    "from itertools import combinations\n",
    "from sage.all import *\n",
    "\n",
    "List48m4 = [Graph([(1, 2), (1, 3), (1, 4), (2, 5), (2, 6), (3, 7), (3, 8), (4, 9), (4, 10), (5, 10), (5, 11), (6, 7), (6, 12), (7, 13), (8, 14), (8, 15), (9, 16), (9, 17), (10, 18), (11, 12), (11, 18), (12, 19), (13, 20), (13, 21), (14, 21), (14, 22), (15, 16), (15, 22), (16, 23), (17, 18), (17, 23), (19, 24), (19, 25), (20, 25), (20, 26), (21, 27), (22, 23), (24, 28), (24, 29), (25, 30), (26, 27), (26, 31), (27, 32), (28, 32), (28, 33), (29, 30), (29, 34), (30, 35), (31, 36), (31, 37), (32, 37), (33, 38), (33, 39), (34, 39), (34, 40), (35, 40), (35, 41), (36, 41), (36, 42), (37, 43), (38, 43), (38, 44), (39, 45), (40, 46), (41, 47), (42, 43), (42, 48), (44, 45), (44, 48), (45, 46), (46, 47), (47, 48)]), Graph([(1, 2), (1, 3), (1, 4), (2, 5), (2, 6), (3, 7), (3, 8), (4, 9), (4, 10), (5, 10), (5, 11), (6, 12), (6, 13), (7, 14), (7, 15), (8, 16), (8, 17), (9, 17), (9, 18), (10, 19), (11, 12), (11, 20), (12, 21), (13, 16), (13, 22), (14, 23), (14, 24), (15, 25), (15, 26), (16, 26), (17, 27), (18, 19), (18, 28), (19, 20), (20, 29), (21, 27), (21, 29), (22, 30), (22, 31), (23, 31), (23, 32), (24, 25), (24, 33), (25, 34), (26, 30), (27, 28), (28, 29), (30, 35), (31, 36), (32, 37), (32, 38), (33, 38), (33, 39), (34, 39), (34, 40), (35, 36), (35, 41), (36, 42), (37, 42), (37, 43), (38, 44), (39, 45), (40, 41), (40, 46), (41, 47), (42, 47), (43, 44), (43, 48), (44, 45), (45, 46), (46, 48), (47, 48)])]\n",
    "\n",
    "i = 0\n",
    "for G in List48m4: \n",
    "    i = i + 1\n",
    "    print('position', i, 'in progress')\n",
    "    LineGraph = G.line_graph(labels=False)\n",
    "    print(LineGraph.is_hamiltonian())\n",
    "    if LineGraph.is_hamiltonian() == False:\n",
    "        print('Non-Edge-Hamiltonian Graph:', G.edges(sort=True, labels=False), 'Line Graph', LineGraph.edges(sort=True, labels=False))\n",
    "    print('position', i, ' still in progress')\n",
    "    print(LineGraph.hamiltonian_path())\n",
    "    if LineGraph.hamiltonian_path() == None:\n",
    "        print('Non-Edge-Traceable Graph:', G.edges(sort=True, labels=False), 'Line Graph', LineGraph.edges(sort=True, labels=False))\n",
    "    print('position', i, ' done')\n",
    "print('Done')"
   ]
  },
  {
   "cell_type": "code",
   "execution_count": null,
   "id": "b75c44c6",
   "metadata": {},
   "outputs": [],
   "source": []
  }
 ],
 "metadata": {
  "kernelspec": {
   "display_name": "SageMath 9.5",
   "language": "sage",
   "name": "sagemath"
  },
  "language_info": {
   "codemirror_mode": {
    "name": "ipython",
    "version": 3
   },
   "file_extension": ".py",
   "mimetype": "text/x-python",
   "name": "python",
   "nbconvert_exporter": "python",
   "pygments_lexer": "ipython3",
   "version": "3.10.6"
  }
 },
 "nbformat": 4,
 "nbformat_minor": 5
}
