{
 "cells": [
  {
   "cell_type": "code",
   "execution_count": null,
   "id": "7eb2d6e6",
   "metadata": {},
   "outputs": [],
   "source": [
    "from itertools import combinations\n",
    "from sage.all import *\n",
    "\n",
    "def decode_planar_code(location):\n",
    "   import struct\n",
    "   liste,listOfGraphs=[],[]\n",
    "   f=open(location,'rb')\n",
    "   f.read(15)\n",
    "   listOfGraphs=[]\n",
    "   while True:\n",
    "     byte = f.read(1);\n",
    "     if not byte:\n",
    "       break\n",
    "     nbrOfVertices = int('{0:08b}'.format(ord(byte)),2)\n",
    "     g = Graph()\n",
    "     g.add_vertices(range(1, nbrOfVertices+1))\n",
    "     for vertex in range(1, nbrOfVertices+1):\n",
    "       byte = f.read(1)\n",
    "       neighbor = int('{0:08b}'.format(ord(byte)),2)\n",
    "       while neighbor!=0:\n",
    "         g.add_edge(vertex,neighbor)\n",
    "         byte = f.read(1)\n",
    "         neighbor = int('{0:08b}'.format(ord(byte)),2)\n",
    "\n",
    "     listOfGraphs.append(g);\n",
    "   f.close()\n",
    "   return listOfGraphs\n",
    "\n",
    "ListGraphs = decode_planar_code('nonham68m5c4x.pc')\n",
    "\n",
    "i = 0\n",
    "print(i)\n",
    "# print('number of graphs ', len(ListGraphs))\n",
    "\n",
    "for G in ListGraphs:\n",
    "    i = i + 1\n",
    "    if i < 6632:\n",
    "        continue\n",
    "    print('position', i, 'in progress')\n",
    "    LineGraph = G.line_graph(labels=False)\n",
    "    HamCheck = LineGraph.is_hamiltonian()\n",
    "    print(HamCheck)\n",
    "    if HamCheck == False:\n",
    "        print('Non-Edge-Hamiltonian Graph:', G.edges(sort=True, labels=False), 'Line Graph', LineGraph.edges(sort=True, labels=False))\n",
    "    else:\n",
    "        continue\n",
    "    print('position', i, ' still in progress')\n",
    "    print(LineGraph.hamiltonian_path())\n",
    "    if LineGraph.hamiltonian_path() == None:\n",
    "        print('Non-Edge-Traceable Graph:', G.edges(sort=True, labels=False), 'Line Graph', LineGraph.edges(sort=True, labels=False))\n",
    "    print('position', i, ' done')\n",
    "print('Done')"
   ]
  },
  {
   "cell_type": "code",
   "execution_count": null,
   "id": "805d41e3",
   "metadata": {},
   "outputs": [],
   "source": []
  }
 ],
 "metadata": {
  "kernelspec": {
   "display_name": "SageMath 9.5",
   "language": "sage",
   "name": "sagemath"
  },
  "language_info": {
   "codemirror_mode": {
    "name": "ipython",
    "version": 3
   },
   "file_extension": ".py",
   "mimetype": "text/x-python",
   "name": "python",
   "nbconvert_exporter": "python",
   "pygments_lexer": "ipython3",
   "version": "3.10.6"
  }
 },
 "nbformat": 4,
 "nbformat_minor": 5
}
